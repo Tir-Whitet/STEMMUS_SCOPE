{
 "cells": [
  {
   "cell_type": "markdown",
   "metadata": {},
   "source": [
    "# Dowenload era5 land using era5cli\n",
    "\n",
    "This notebook shows how to download [era5 land data](https://climate.copernicus.eu/) using [era5cli](https://era5cli.readthedocs.io/en/latest/index.html) for 170 sites. More specifically, at each site:\n",
    "\n",
    "- it gets the location of the site\n",
    "- it checks the site location against ERA5 land sea mask\n",
    "- it gets the starting time of forcing data \n",
    "- it donwloads 9 variables at one location and one time  "
   ]
  },
  {
   "cell_type": "code",
   "execution_count": 1,
   "metadata": {},
   "outputs": [],
   "source": [
    "# import python libraries\n",
    "from netCDF4 import Dataset, num2date\n",
    "from pathlib import Path\n",
    "import xarray as xr\n",
    "import numpy as np"
   ]
  },
  {
   "cell_type": "code",
   "execution_count": null,
   "metadata": {},
   "outputs": [],
   "source": []
  },
  {
   "cell_type": "markdown",
   "metadata": {},
   "source": [
    "## Settings\n",
    "\n",
    "Run these the cell below only once for:\n",
    "\n",
    "1- setting cds keys to access data\n",
    "\n",
    "2- installing era5cli to download data"
   ]
  },
  {
   "cell_type": "code",
   "execution_count": 2,
   "metadata": {},
   "outputs": [
    {
     "name": "stdout",
     "output_type": "stream",
     "text": [
      "Collecting era5cli\n",
      "  Downloading era5cli-2.0.1-py3-none-any.whl.metadata (4.8 kB)\n",
      "Collecting cdsapi>=0.7.4 (from era5cli)\n",
      "  Downloading cdsapi-0.7.6-py2.py3-none-any.whl.metadata (3.0 kB)\n",
      "Requirement already satisfied: netcdf4 in c:\\users\\ajie\\anaconda3\\envs\\scope\\lib\\site-packages (from era5cli) (1.6.4)\n",
      "Collecting pathos (from era5cli)\n",
      "  Downloading pathos-0.3.4-py3-none-any.whl.metadata (11 kB)\n",
      "Collecting ptable (from era5cli)\n",
      "  Downloading PTable-0.9.2.tar.gz (31 kB)\n",
      "  Preparing metadata (setup.py): started\n",
      "  Preparing metadata (setup.py): finished with status 'done'\n",
      "Collecting ecmwf-datastores-client (from cdsapi>=0.7.4->era5cli)\n",
      "  Downloading ecmwf_datastores_client-0.1.0-py3-none-any.whl.metadata (21 kB)\n",
      "Requirement already satisfied: requests>=2.5.0 in c:\\users\\ajie\\anaconda3\\envs\\scope\\lib\\site-packages (from cdsapi>=0.7.4->era5cli) (2.32.3)\n",
      "Collecting tqdm (from cdsapi>=0.7.4->era5cli)\n",
      "  Using cached tqdm-4.67.1-py3-none-any.whl.metadata (57 kB)\n",
      "Requirement already satisfied: cftime in c:\\users\\ajie\\anaconda3\\envs\\scope\\lib\\site-packages (from netcdf4->era5cli) (1.6.4)\n",
      "Requirement already satisfied: certifi in c:\\users\\ajie\\anaconda3\\envs\\scope\\lib\\site-packages (from netcdf4->era5cli) (2025.1.31)\n",
      "Requirement already satisfied: numpy in c:\\users\\ajie\\anaconda3\\envs\\scope\\lib\\site-packages (from netcdf4->era5cli) (1.26.4)\n",
      "Collecting ppft>=1.7.7 (from pathos->era5cli)\n",
      "  Downloading ppft-1.7.7-py3-none-any.whl.metadata (12 kB)\n",
      "Collecting dill>=0.4.0 (from pathos->era5cli)\n",
      "  Using cached dill-0.4.0-py3-none-any.whl.metadata (10 kB)\n",
      "Collecting pox>=0.3.6 (from pathos->era5cli)\n",
      "  Downloading pox-0.3.6-py3-none-any.whl.metadata (8.0 kB)\n",
      "Collecting multiprocess>=0.70.18 (from pathos->era5cli)\n",
      "  Downloading multiprocess-0.70.18-py310-none-any.whl.metadata (7.5 kB)\n",
      "Requirement already satisfied: charset-normalizer<4,>=2 in c:\\users\\ajie\\anaconda3\\envs\\scope\\lib\\site-packages (from requests>=2.5.0->cdsapi>=0.7.4->era5cli) (3.4.1)\n",
      "Requirement already satisfied: idna<4,>=2.5 in c:\\users\\ajie\\anaconda3\\envs\\scope\\lib\\site-packages (from requests>=2.5.0->cdsapi>=0.7.4->era5cli) (3.10)\n",
      "Requirement already satisfied: urllib3<3,>=1.21.1 in c:\\users\\ajie\\anaconda3\\envs\\scope\\lib\\site-packages (from requests>=2.5.0->cdsapi>=0.7.4->era5cli) (2.3.0)\n",
      "Requirement already satisfied: attrs in c:\\users\\ajie\\anaconda3\\envs\\scope\\lib\\site-packages (from ecmwf-datastores-client->cdsapi>=0.7.4->era5cli) (25.3.0)\n",
      "Collecting multiurl>=0.3.2 (from ecmwf-datastores-client->cdsapi>=0.7.4->era5cli)\n",
      "  Using cached multiurl-0.3.5-py3-none-any.whl.metadata (2.8 kB)\n",
      "Requirement already satisfied: typing-extensions in c:\\users\\ajie\\anaconda3\\envs\\scope\\lib\\site-packages (from ecmwf-datastores-client->cdsapi>=0.7.4->era5cli) (4.13.1)\n",
      "Requirement already satisfied: colorama in c:\\users\\ajie\\anaconda3\\envs\\scope\\lib\\site-packages (from tqdm->cdsapi>=0.7.4->era5cli) (0.4.6)\n",
      "Requirement already satisfied: pytz in c:\\users\\ajie\\anaconda3\\envs\\scope\\lib\\site-packages (from multiurl>=0.3.2->ecmwf-datastores-client->cdsapi>=0.7.4->era5cli) (2024.1)\n",
      "Requirement already satisfied: python-dateutil in c:\\users\\ajie\\anaconda3\\envs\\scope\\lib\\site-packages (from multiurl>=0.3.2->ecmwf-datastores-client->cdsapi>=0.7.4->era5cli) (2.9.0.post0)\n",
      "Requirement already satisfied: six>=1.5 in c:\\users\\ajie\\anaconda3\\envs\\scope\\lib\\site-packages (from python-dateutil->multiurl>=0.3.2->ecmwf-datastores-client->cdsapi>=0.7.4->era5cli) (1.16.0)\n",
      "Downloading era5cli-2.0.1-py3-none-any.whl (29 kB)\n",
      "Downloading cdsapi-0.7.6-py2.py3-none-any.whl (12 kB)\n",
      "Downloading pathos-0.3.4-py3-none-any.whl (82 kB)\n",
      "Using cached dill-0.4.0-py3-none-any.whl (119 kB)\n",
      "Downloading multiprocess-0.70.18-py310-none-any.whl (134 kB)\n",
      "Downloading pox-0.3.6-py3-none-any.whl (29 kB)\n",
      "Downloading ppft-1.7.7-py3-none-any.whl (56 kB)\n",
      "Downloading ecmwf_datastores_client-0.1.0-py3-none-any.whl (29 kB)\n",
      "Using cached tqdm-4.67.1-py3-none-any.whl (78 kB)\n",
      "Using cached multiurl-0.3.5-py3-none-any.whl (21 kB)\n",
      "Building wheels for collected packages: ptable\n",
      "  Building wheel for ptable (setup.py): started\n",
      "  Building wheel for ptable (setup.py): finished with status 'done'\n",
      "  Created wheel for ptable: filename=PTable-0.9.2-py3-none-any.whl size=22997 sha256=0b9d9a0472d22331768536cf586246229e99152b64cd186cf882a9f962adda9a\n",
      "  Stored in directory: c:\\users\\ajie\\appdata\\local\\pip\\cache\\wheels\\bc\\88\\52\\f2e9fc70f3a657cf256e9b01a8a42938c4c5ee69118d51ed90\n",
      "Successfully built ptable\n",
      "Installing collected packages: ptable, tqdm, ppft, pox, dill, multiurl, multiprocess, pathos, ecmwf-datastores-client, cdsapi, era5cli\n",
      "Successfully installed cdsapi-0.7.6 dill-0.4.0 ecmwf-datastores-client-0.1.0 era5cli-2.0.1 multiprocess-0.70.18 multiurl-0.3.5 pathos-0.3.4 pox-0.3.6 ppft-1.7.7 ptable-0.9.2 tqdm-4.67.1\n",
      "Note: you may need to restart the kernel to use updated packages.\n"
     ]
    }
   ],
   "source": [
    "%pip install era5cli"
   ]
  },
  {
   "cell_type": "code",
   "execution_count": null,
   "metadata": {},
   "outputs": [],
   "source": [
    "# Create a key ascii file\n",
    "!echo \"url: https://cds.climate.copernicus.eu/api/v2\" > ~/.cdsapirc \n",
    "\n",
    "# Replace UID with your user ID and KEY with your API key\n",
    "!echo \"key: UID:KEY\" >> ~/.cdsapirc\n",
    "\n",
    "# install era5cli\n",
    "!pip install era5cli"
   ]
  },
  {
   "cell_type": "code",
   "execution_count": null,
   "metadata": {},
   "outputs": [],
   "source": []
  },
  {
   "cell_type": "markdown",
   "metadata": {},
   "source": [
    "## Path to land sea mask and forcing data\n",
    "\n",
    "ERA5-land provides `land_sea mask`. If you click on [land_sea mask](https://confluence.ecmwf.int/download/attachments/140385202/lsm_1279l4_0.1x0.1.grb_v4_unpack.nc?version=1&modificationDate=1591979822208&api=v2), a netcdf file will be donwloaded. See [documentation](https://confluence.ecmwf.int/display/FUG/Land-Sea+Mask). \n",
    "Download `land_sea mask` file and set the path to the file."
   ]
  },
  {
   "cell_type": "code",
   "execution_count": 2,
   "metadata": {},
   "outputs": [],
   "source": [
    "# Path to land_sea mask file\n",
    "land_sea_filename = Path(\"./lsm_1279l4_0.1x0.1.grb_v4_unpack.nc\")"
   ]
  },
  {
   "cell_type": "code",
   "execution_count": 3,
   "metadata": {},
   "outputs": [],
   "source": [
    "# path to forcing data, for example on CRIB data are located at:\n",
    "forcing_path = Path(\"E:/Work/2505/SCOPE/STEMMUS_SCOPE/utils/notebooks/\")"
   ]
  },
  {
   "cell_type": "markdown",
   "metadata": {},
   "source": [
    "## Functions to select data in era5-land "
   ]
  },
  {
   "cell_type": "code",
   "execution_count": 4,
   "metadata": {},
   "outputs": [],
   "source": [
    "def find_nearest_ERA5_land_point(\n",
    "    lsm_dataset,\n",
    "    point_longitude,\n",
    "    point_latitude,\n",
    "    padding,\n",
    "):\n",
    "    \"\"\"Find nearest grid cell in land see mask to a point based on Geographical distances.\n",
    "    args:\n",
    "        lsm_dataset: ERA5 land sea mask dataset\n",
    "        point_longitude: longitude in degrees of target coordinate\n",
    "        point_latitude: latitude in degrees of target coordinate\n",
    "        padding: bounding box around the point\n",
    "    returns:\n",
    "        longitude: longitude of closest grid cell\n",
    "        latitude: latitude of closest grid cell\n",
    "    \"\"\"\n",
    "    # create a bounding_box \n",
    "    lat_max = point_latitude + padding\n",
    "    lat_min = point_latitude - padding\n",
    "    lon_max = point_longitude + padding\n",
    "    lon_min = point_longitude - padding\n",
    "\n",
    "    lsm_lon = lsm_dataset[\"longitude\"].values\n",
    "    lsm_lat = lsm_dataset[\"latitude\"].values\n",
    "    longitudes = lsm_lon[(lsm_lon >= lon_min) & (lsm_lon <= lon_max)]\n",
    "    latitudes = lsm_lat[(lsm_lat >= lat_min) & (lsm_lat <= lat_max)]\n",
    "    bounding_box = lsm_dataset.sel(longitude=longitudes, latitude=latitudes)\n",
    "\n",
    "    grid_longitudes_array = np.array(bounding_box[\"longitude\"].values)\n",
    "    grid_latitudes_array = np.array(bounding_box[\"latitude\"].values)\n",
    "\n",
    "    # Create a grid from coordinates (shape will be (nlat, nlon))\n",
    "    lon_vectors, lat_vectors = np.meshgrid(grid_longitudes_array, grid_latitudes_array)\n",
    "\n",
    "    # calculate distanced\n",
    "    distances = geographical_distances(\n",
    "        point_longitude, point_latitude, lon_vectors, lat_vectors\n",
    "    )\n",
    "\n",
    "    # mask distances where they are on sea: values less than 0.6\n",
    "    masked_distances = xr.where(bounding_box >= 0.6, distances, np.nan)\n",
    "\n",
    "    # find the nearest on land\n",
    "    index = np.nanargmin(masked_distances[\"lsm\"].to_numpy())\n",
    "    idx_lat, idx_lon = np.unravel_index(index, distances.shape)\n",
    "    \n",
    "    selected_grid = bounding_box.isel(longitude=int(idx_lon), latitude=int(idx_lat))\n",
    "    \n",
    "    return selected_grid[\"longitude\"].values, selected_grid[\"latitude\"].values\n",
    "\n",
    "\n",
    "def geographical_distances(\n",
    "    point_longitude,\n",
    "    point_latitude,\n",
    "    lon_vectors,\n",
    "    lat_vectors,\n",
    "    radius=6373.0,\n",
    "):\n",
    "    \"\"\"It uses Spherical Earth projected to a plane formula:\n",
    "    https://en.wikipedia.org/wiki/Geographical_distance\n",
    "    args:\n",
    "        point_longitude: longitude in degrees of target coordinate\n",
    "        point_latitude: latitude in degrees of target coordinate\n",
    "        lon_vectors: 1d array of longitudes in degrees\n",
    "        lat_vectors: 1d array of latitudes in degrees\n",
    "        radius: Radius of a sphere in km. Default is Earths approximate radius.\n",
    "    returns:\n",
    "        distances: array of geographical distance of point to all vector members\n",
    "    \"\"\"\n",
    "    dlon = np.radians(lon_vectors - point_longitude)\n",
    "    dlat = np.radians(lat_vectors - point_latitude)\n",
    "    latm = np.radians((lat_vectors + point_latitude) / 2)\n",
    "    return radius * np.sqrt(dlat**2 + (np.cos(latm) * dlon) ** 2)\n",
    "\n",
    "\n",
    "def convert_lon(ds, lon_name):\n",
    "    \"\"\"Adjust lon values to make sure they are within (-180, 180).\n",
    "    args: \n",
    "        ds: xarray dataset\n",
    "        lon_name: whatever name is in the data\n",
    "    returns: \n",
    "        ds: xarray dataset\n",
    "    \"\"\"\n",
    "    ds['_longitude_adjusted'] = xr.where(\n",
    "        ds[lon_name] > 180,\n",
    "        ds[lon_name] - 360,\n",
    "        ds[lon_name])\n",
    "\n",
    "    # reassign the new coords to as the main lon coords\n",
    "    # and sort DataArray using new coordinate values\n",
    "    ds = (\n",
    "        ds\n",
    "        .swap_dims({lon_name: '_longitude_adjusted'})\n",
    "        .sel(**{'_longitude_adjusted': sorted(ds._longitude_adjusted)})\n",
    "        .drop(lon_name))\n",
    "\n",
    "    ds = ds.rename({'_longitude_adjusted': lon_name})\n",
    "    return ds\n",
    "\n",
    "\n",
    "def get_forcing_info(ds):\n",
    "    # 疑似 forcing 就是 ds\n",
    "    # lon = forcing[\"longitude\"].values.flatten()[0]\n",
    "    # lat = forcing[\"latitude\"].values.flatten()[0]\n",
    "    # time = forcing[\"time\"].dt\n",
    "    lon = ds[\"longitude\"].values.flatten()[0]\n",
    "    lat = ds[\"latitude\"].values.flatten()[0]\n",
    "    time = ds[\"time\"].dt\n",
    "\n",
    "\n",
    "    return lon, lat, time\n",
    "    "
   ]
  },
  {
   "cell_type": "markdown",
   "metadata": {},
   "source": [
    "## Get site information and check it against land sea mask"
   ]
  },
  {
   "cell_type": "code",
   "execution_count": 6,
   "metadata": {},
   "outputs": [
    {
     "name": "stderr",
     "output_type": "stream",
     "text": [
      "C:\\Users\\Ajie\\AppData\\Local\\Temp\\ipykernel_26616\\1871846246.py:95: DeprecationWarning: dropping variables using `drop` is deprecated; use drop_vars.\n",
      "  .drop(lon_name))\n"
     ]
    }
   ],
   "source": [
    "# Open land sea mask data and convert the longitude values\n",
    "# In forcing data lon (-180, 180) and lat (-90, 90)\n",
    "# In land sea mask lon (0, 360) and lat (-90, 90)\n",
    "land_sea_filename = 'E:/Work/2505/SCOPE/STEMMUS_SCOPE/utils/notebooks/lsm_1279l4_0.1x0.1.grb_v4_unpack.nc'\n",
    "lsm = xr.open_dataset(land_sea_filename)\n",
    "lsm_dataset = convert_lon(lsm, 'longitude')"
   ]
  },
  {
   "cell_type": "code",
   "execution_count": null,
   "metadata": {},
   "outputs": [
    {
     "name": "stdout",
     "output_type": "stream",
     "text": [
      "-66.4598 -33.4648\n"
     ]
    }
   ],
   "source": [
    "# Choose a site and get forcing information like location and strating time\n",
    "forcing_name = \"AR-SLu_2010-2010_FLUXNET2015_Met.nc\"  # 加了自己的示例数据\n",
    "forcing = xr.open_dataset(forcing_path / forcing_name)\n",
    "lon, lat, time =  get_forcing_info(forcing)\n",
    "print(lon, lat)"
   ]
  },
  {
   "cell_type": "code",
   "execution_count": 9,
   "metadata": {},
   "outputs": [
    {
     "name": "stdout",
     "output_type": "stream",
     "text": [
      "-66.5 -33.5\n"
     ]
    }
   ],
   "source": [
    "# check the site location againts land sea mask \n",
    "nearest_lon, nearest_lat = find_nearest_ERA5_land_point(lsm_dataset, lon, lat, 0.2)\n",
    "print(nearest_lon, nearest_lat)"
   ]
  },
  {
   "cell_type": "markdown",
   "metadata": {},
   "source": [
    "## Prepare required information for era5cli command line"
   ]
  },
  {
   "cell_type": "code",
   "execution_count": 10,
   "metadata": {},
   "outputs": [],
   "source": [
    "# starting time\n",
    "startyear = time.year.values[0]\n",
    "endyear = startyear\n",
    "startmonth = time.month.values[0]\n",
    "startday = time.day.values[0]\n",
    "starthour = time.hour.values[0]\n",
    "\n",
    "# create area, note that era5 resolution is 0.1\n",
    "# and we want only one grid cell\n",
    "lat_max = nearest_lat + 0.001\n",
    "lat_min = nearest_lat - 0.001\n",
    "lon_max = nearest_lon + 0.001\n",
    "lon_min = nearest_lon - 0.001\n",
    "\n",
    "# create prefix for file name\n",
    "station_name = forcing_name.split('_')[0]\n",
    "timestamp = time.strftime('%Y%m%d_%H').values[0]\n",
    "file_name = f\"{station_name}_{timestamp}\""
   ]
  },
  {
   "cell_type": "markdown",
   "metadata": {},
   "source": [
    "## Test the download command line using --dryrun\n",
    "The cell below makes sure that the command line works correctly. It only shows what ERA5cli command-line will return. It does **not** download any data. "
   ]
  },
  {
   "cell_type": "code",
   "execution_count": 16,
   "metadata": {},
   "outputs": [
    {
     "name": "stdout",
     "output_type": "stream",
     "text": [
      "NB: coordinates [39.300999237060545, -0.400993896484375, 39.29899923706055, -0.398993896484375] rounded down to two decimals.\n",
      "\n",
      "NB: coordinates [39.300999237060545, -0.400993896484375, 39.29899923706055, -0.398993896484375] rounded down to two decimals.\n",
      "\n",
      "NB: coordinates [39.300999237060545, -0.400993896484375, 39.29899923706055, -0.398993896484375] rounded down to two decimals.\n",
      "\n",
      "NB: coordinates [39.300999237060545, -0.400993896484375, 39.29899923706055, -0.398993896484375] rounded down to two decimals.\n",
      "\n",
      "NB: coordinates [39.300999237060545, -0.400993896484375, 39.29899923706055, -0.398993896484375] rounded down to two decimals.\n",
      "reanalysis-era5-land {'variable': 'soil_temperature_level_1', 'year': [1999], 'month': ['01'], 'time': ['00:00'], 'format': 'netcdf', 'area': [39.3, -0.4, 39.3, -0.4], 'day': ['01']} ES-ES1_19990101_00-land_soil_temperature_level_1_1999_hourly_0E-0E_39N-39N.nc\n",
      "reanalysis-era5-land {'variable': 'volumetric_soil_water_layer_2', 'year': [1999], 'month': ['01'], 'time': ['00:00'], 'format': 'netcdf', 'area': [39.3, -0.4, 39.3, -0.4], 'day': ['01']} ES-ES1_19990101_00-land_volumetric_soil_water_layer_2_1999_hourly_0E-0E_39N-39N.nc\n",
      "reanalysis-era5-land {'variable': 'soil_temperature_level_2', 'year': [1999], 'month': ['01'], 'time': ['00:00'], 'format': 'netcdf', 'area': [39.3, -0.4, 39.3, -0.4], 'day': ['01']} ES-ES1_19990101_00-land_soil_temperature_level_2_1999_hourly_0E-0E_39N-39N.nc\n",
      "NB: coordinates [39.300999237060545, -0.400993896484375, 39.29899923706055, -0.398993896484375] rounded down to two decimals.\n",
      "NB: coordinates [39.300999237060545, -0.400993896484375, 39.29899923706055, -0.398993896484375] rounded down to two decimals.\n",
      "\n",
      "reanalysis-era5-land {'variable': 'soil_temperature_level_4', 'year': [1999], 'month': ['01'], 'time': ['00:00'], 'format': 'netcdf', 'area': [39.3, -0.4, 39.3, -0.4], 'day': ['01']} ES-ES1_19990101_00-land_soil_temperature_level_4_1999_hourly_0E-0E_39N-39N.nc\n",
      "\n",
      "\n",
      "NB: coordinates [39.300999237060545, -0.400993896484375, 39.29899923706055, -0.398993896484375] rounded down to two decimals.\n",
      "\n",
      "reanalysis-era5-land {'variable': 'soil_temperature_level_3', 'year': [1999], 'month': ['01'], 'time': ['00:00'], 'format': 'netcdf', 'area': [39.3, -0.4, 39.3, -0.4], 'day': ['01']} ES-ES1_19990101_00-land_soil_temperature_level_3_1999_hourly_0E-0E_39N-39N.nc\n",
      "NB: coordinates [39.300999237060545, -0.400993896484375, 39.29899923706055, -0.398993896484375] rounded down to two decimals.\n",
      "\n",
      "reanalysis-era5-land {'variable': 'volumetric_soil_water_layer_3', 'year': [1999], 'month': ['01'], 'time': ['00:00'], 'format': 'netcdf', 'area': [39.3, -0.4, 39.3, -0.4], 'day': ['01']} ES-ES1_19990101_00-land_volumetric_soil_water_layer_3_1999_hourly_0E-0E_39N-39N.nc\n",
      "reanalysis-era5-land {'variable': 'volumetric_soil_water_layer_4', 'year': [1999], 'month': ['01'], 'time': ['00:00'], 'format': 'netcdf', 'area': [39.3, -0.4, 39.3, -0.4], 'day': ['01']} ES-ES1_19990101_00-land_volumetric_soil_water_layer_4_1999_hourly_0E-0E_39N-39N.nc\n",
      "reanalysis-era5-land {'variable': 'volumetric_soil_water_layer_1', 'year': [1999], 'month': ['01'], 'time': ['00:00'], 'format': 'netcdf', 'area': [39.3, -0.4, 39.3, -0.4], 'day': ['01']} ES-ES1_19990101_00-land_volumetric_soil_water_layer_1_1999_hourly_0E-0E_39N-39N.nc\n",
      "reanalysis-era5-land {'variable': 'skin_temperature', 'year': [1999], 'month': ['01'], 'time': ['00:00'], 'format': 'netcdf', 'area': [39.3, -0.4, 39.3, -0.4], 'day': ['01']} ES-ES1_19990101_00-land_skin_temperature_1999_hourly_0E-0E_39N-39N.nc\n"
     ]
    }
   ],
   "source": [
    "# Run era5cli for variables soil_temperature and volumetric_soil_water at four levels and skin_temperature\n",
    "!era5cli hourly --variables soil_temperature_level_1 soil_temperature_level_2 soil_temperature_level_3 soil_temperature_level_4 \\\n",
    "volumetric_soil_water_layer_1 volumetric_soil_water_layer_2 volumetric_soil_water_layer_3 volumetric_soil_water_layer_4 skin_temperature \\\n",
    "--startyear {startyear} --endyear {endyear} --land \\\n",
    "--area {lat_max} {lon_min} {lat_min} {lon_max} \\\n",
    "--months {startmonth} --days {startday} --hours {starthour} --outputprefix {file_name} --dryrun --merge"
   ]
  },
  {
   "cell_type": "code",
   "execution_count": 11,
   "metadata": {},
   "outputs": [
    {
     "name": "stdout",
     "output_type": "stream",
     "text": [
      "NB: coordinates [-33.499, -66.501, -33.501, -66.499] rounded down to two decimals.\n",
      "\n",
      "reanalysis-era5-land {'variable': 'soil_temperature_level_1', 'year': [2010], 'month': ['01'], 'time': ['00:00'], 'data_format': 'netcdf', 'download_format': 'unarchived', 'area': [-33.5, -66.5, -33.5, -66.5], 'day': ['01']} AR-SLu_20100101_00-land_soil_temperature_level_1_2010_hourly_67W-66W_34S-33S.nc\n",
      "NB: coordinates [-33.499, -66.501, -33.501, -66.499] rounded down to two decimals.\n",
      "\n",
      "reanalysis-era5-land {'variable': 'soil_temperature_level_2', 'year': [2010], 'month': ['01'], 'time': ['00:00'], 'data_format': 'netcdf', 'download_format': 'unarchived', 'area': [-33.5, -66.5, -33.5, -66.5], 'day': ['01']} AR-SLu_20100101_00-land_soil_temperature_level_2_2010_hourly_67W-66W_34S-33S.nc\n",
      "NB: coordinates [-33.499, -66.501, -33.501, -66.499] rounded down to two decimals.\n",
      "\n",
      "reanalysis-era5-land {'variable': 'soil_temperature_level_3', 'year': [2010], 'month': ['01'], 'time': ['00:00'], 'data_format': 'netcdf', 'download_format': 'unarchived', 'area': [-33.5, -66.5, -33.5, -66.5], 'day': ['01']} AR-SLu_20100101_00-land_soil_temperature_level_3_2010_hourly_67W-66W_34S-33S.nc\n",
      "NB: coordinates [-33.499, -66.501, -33.501, -66.499] rounded down to two decimals.\n",
      "\n",
      "reanalysis-era5-land {'variable': 'soil_temperature_level_4', 'year': [2010], 'month': ['01'], 'time': ['00:00'], 'data_format': 'netcdf', 'download_format': 'unarchived', 'area': [-33.5, -66.5, -33.5, -66.5], 'day': ['01']} AR-SLu_20100101_00-land_soil_temperature_level_4_2010_hourly_67W-66W_34S-33S.nc\n",
      "NB: coordinates [-33.499, -66.501, -33.501, -66.499] rounded down to two decimals.\n",
      "\n",
      "reanalysis-era5-land {'variable': 'volumetric_soil_water_layer_1', 'year': [2010], 'month': ['01'], 'time': ['00:00'], 'data_format': 'netcdf', 'download_format': 'unarchived', 'area': [-33.5, -66.5, -33.5, -66.5], 'day': ['01']} AR-SLu_20100101_00-land_volumetric_soil_water_layer_1_2010_hourly_67W-66W_34S-33S.nc\n",
      "NB: coordinates [-33.499, -66.501, -33.501, -66.499] rounded down to two decimals.\n",
      "\n",
      "reanalysis-era5-land {'variable': 'volumetric_soil_water_layer_2', 'year': [2010], 'month': ['01'], 'time': ['00:00'], 'data_format': 'netcdf', 'download_format': 'unarchived', 'area': [-33.5, -66.5, -33.5, -66.5], 'day': ['01']} AR-SLu_20100101_00-land_volumetric_soil_water_layer_2_2010_hourly_67W-66W_34S-33S.nc\n",
      "NB: coordinates [-33.499, -66.501, -33.501, -66.499] rounded down to two decimals.\n",
      "\n",
      "reanalysis-era5-land {'variable': 'volumetric_soil_water_layer_3', 'year': [2010], 'month': ['01'], 'time': ['00:00'], 'data_format': 'netcdf', 'download_format': 'unarchived', 'area': [-33.5, -66.5, -33.5, -66.5], 'day': ['01']} AR-SLu_20100101_00-land_volumetric_soil_water_layer_3_2010_hourly_67W-66W_34S-33S.nc\n",
      "NB: coordinates [-33.499, -66.501, -33.501, -66.499] rounded down to two decimals.\n",
      "\n",
      "reanalysis-era5-land {'variable': 'volumetric_soil_water_layer_4', 'year': [2010], 'month': ['01'], 'time': ['00:00'], 'data_format': 'netcdf', 'download_format': 'unarchived', 'area': [-33.5, -66.5, -33.5, -66.5], 'day': ['01']} AR-SLu_20100101_00-land_volumetric_soil_water_layer_4_2010_hourly_67W-66W_34S-33S.nc\n",
      "NB: coordinates [-33.499, -66.501, -33.501, -66.499] rounded down to two decimals.\n",
      "\n",
      "reanalysis-era5-land {'variable': 'skin_temperature', 'year': [2010], 'month': ['01'], 'time': ['00:00'], 'data_format': 'netcdf', 'download_format': 'unarchived', 'area': [-33.5, -66.5, -33.5, -66.5], 'day': ['01']} AR-SLu_20100101_00-land_skin_temperature_2010_hourly_67W-66W_34S-33S.nc\n"
     ]
    }
   ],
   "source": [
    "# Run era5cli for variables soil_temperature and volumetric_soil_water at four levels and skin_temperature\n",
    "!era5cli hourly --variables soil_temperature_level_1 soil_temperature_level_2 soil_temperature_level_3 soil_temperature_level_4 \\\n",
    "volumetric_soil_water_layer_1 volumetric_soil_water_layer_2 volumetric_soil_water_layer_3 volumetric_soil_water_layer_4 skin_temperature \\\n",
    "--startyear {startyear} --endyear {endyear} --land \\\n",
    "--area {lat_max} {lon_min} {lat_min} {lon_max} \\\n",
    "--months {startmonth} --days {startday} --hours {starthour} --outputprefix {file_name} --dryrun --merge"
   ]
  },
  {
   "cell_type": "markdown",
   "metadata": {},
   "source": [
    "## Download data\n",
    "\n",
    "The cell below downloads data. You can specify the name of forcing files or download data at all 170 sites. "
   ]
  },
  {
   "cell_type": "code",
   "execution_count": null,
   "metadata": {},
   "outputs": [
    {
     "name": "stdout",
     "output_type": "stream",
     "text": [
      "NB: coordinates [-33.499, -66.501, -33.501, -66.499] rounded down to two decimals.\n",
      "\n",
      "\n",
      "\n",
      "Download request is being queued at Copernicus.\n",
      "\n",
      "It can take some time before downloading starts, please do not kill this process in the meantime.\n",
      "\n",
      "\n",
      "NB: coordinates [-33.499, -66.501, -33.501, -66.499] rounded down to two decimals.\n",
      "\n",
      "\n",
      "\n",
      "Download request is being queued at Copernicus.\n",
      "\n",
      "It can take some time before downloading starts, please do not kill this process in the meantime.\n",
      "\n",
      "\n",
      "NB: coordinates [-33.499, -66.501, -33.501, -66.499] rounded down to two decimals.\n",
      "\n",
      "\n",
      "\n",
      "Download request is being queued at Copernicus.\n",
      "\n",
      "It can take some time before downloading starts, please do not kill this process in the meantime.\n",
      "\n",
      "\n",
      "NB: coordinates [-33.499, -66.501, -33.501, -66.499] rounded down to two decimals.\n",
      "\n",
      "\n",
      "\n",
      "Download request is being queued at Copernicus.\n",
      "\n",
      "It can take some time before downloading starts, please do not kill this process in the meantime.\n",
      "\n",
      "\n",
      "NB: coordinates [-33.499, -66.501, -33.501, -66.499] rounded down to two decimals.\n",
      "\n",
      "\n",
      "\n",
      "Download request is being queued at Copernicus.\n",
      "\n",
      "It can take some time before downloading starts, please do not kill this process in the meantime.\n",
      "\n",
      "\n",
      "NB: coordinates [-33.499, -66.501, -33.501, -66.499] rounded down to two decimals.\n",
      "\n",
      "\n",
      "\n",
      "Download request is being queued at Copernicus.\n",
      "\n",
      "It can take some time before downloading starts, please do not kill this process in the meantime.\n",
      "\n",
      "\n",
      "NB: coordinates [-33.499, -66.501, -33.501, -66.499] rounded down to two decimals.\n",
      "\n",
      "\n",
      "\n",
      "Download request is being queued at Copernicus.\n",
      "\n",
      "It can take some time before downloading starts, please do not kill this process in the meantime.\n",
      "\n",
      "\n",
      "NB: coordinates [-33.499, -66.501, -33.501, -66.499] rounded down to two decimals.\n",
      "\n",
      "\n",
      "\n",
      "Download request is being queued at Copernicus.\n",
      "\n",
      "It can take some time before downloading starts, please do not kill this process in the meantime.\n",
      "\n",
      "\n",
      "NB: coordinates [-33.499, -66.501, -33.501, -66.499] rounded down to two decimals.\n",
      "\n",
      "\n",
      "\n",
      "Download request is being queued at Copernicus.\n",
      "\n",
      "It can take some time before downloading starts, please do not kill this process in the meantime.\n",
      "\n",
      "\n"
     ]
    },
    {
     "name": "stderr",
     "output_type": "stream",
     "text": [
      "2025-06-06 11:26:55,476 INFO [2024-09-26T00:00:00] Watch our [Forum](https://forum.ecmwf.int/) for Announcements, news and other discussed topics.\n",
      "2025-06-06 11:26:57,700 INFO Request ID is fe7451d6-0a67-44de-a083-eab3441f95f4\n",
      "2025-06-06 11:26:57,898 INFO status has been updated to accepted\n",
      "2025-06-06 11:27:20,108 INFO status has been updated to running\n",
      "2025-06-06 11:27:31,719 INFO status has been updated to successful\n",
      "2025-06-06 11:27:33,169 INFO [2024-09-26T00:00:00] Watch our [Forum](https://forum.ecmwf.int/) for Announcements, news and other discussed topics.\n",
      "2025-06-06 11:27:33,822 INFO Request ID is 54b88633-08c3-4189-96b5-d168851e370f\n",
      "2025-06-06 11:27:34,046 INFO status has been updated to accepted\n",
      "2025-06-06 11:27:56,345 INFO status has been updated to successful\n",
      "2025-06-06 11:27:58,777 INFO [2024-09-26T00:00:00] Watch our [Forum](https://forum.ecmwf.int/) for Announcements, news and other discussed topics.\n",
      "2025-06-06 11:27:59,459 INFO Request ID is 877cc2b3-6221-4d3b-888a-8ce48facf0a8\n",
      "2025-06-06 11:27:59,700 INFO status has been updated to accepted\n",
      "2025-06-06 11:28:05,153 INFO status has been updated to running\n",
      "2025-06-06 11:28:14,495 INFO status has been updated to successful\n",
      "2025-06-06 11:28:17,232 INFO [2024-09-26T00:00:00] Watch our [Forum](https://forum.ecmwf.int/) for Announcements, news and other discussed topics.\n",
      "2025-06-06 11:28:17,965 INFO Request ID is 93c13a54-dd57-473c-8539-a2229179a10d\n",
      "2025-06-06 11:28:18,167 INFO status has been updated to accepted\n",
      "2025-06-06 11:28:40,561 INFO status has been updated to running\n",
      "2025-06-06 11:28:52,164 INFO status has been updated to successful\n",
      "2025-06-06 11:28:54,666 INFO [2024-09-26T00:00:00] Watch our [Forum](https://forum.ecmwf.int/) for Announcements, news and other discussed topics.\n",
      "2025-06-06 11:28:55,171 INFO Request ID is c3d61d5f-2427-433a-9b5a-c6d1b57e91aa\n",
      "2025-06-06 11:28:55,387 INFO status has been updated to accepted\n",
      "2025-06-06 11:29:29,775 INFO status has been updated to successful\n",
      "2025-06-06 11:29:32,218 INFO [2024-09-26T00:00:00] Watch our [Forum](https://forum.ecmwf.int/) for Announcements, news and other discussed topics.\n",
      "2025-06-06 11:29:33,654 INFO Request ID is 9f03b3d3-0527-4751-8ce1-d6ea69f85477\n",
      "2025-06-06 11:29:33,876 INFO status has been updated to accepted\n",
      "2025-06-06 11:30:07,614 INFO status has been updated to running\n",
      "2025-06-06 11:30:24,913 INFO status has been updated to successful\n",
      "2025-06-06 11:30:28,569 INFO [2024-09-26T00:00:00] Watch our [Forum](https://forum.ecmwf.int/) for Announcements, news and other discussed topics.\n",
      "2025-06-06 11:30:29,107 INFO Request ID is d2a15715-8cdf-4c10-b778-1b2e2d892a70\n",
      "2025-06-06 11:30:29,479 INFO status has been updated to accepted\n",
      "2025-06-06 11:30:38,555 INFO status has been updated to running\n",
      "2025-06-06 11:30:43,944 INFO status has been updated to accepted\n",
      "2025-06-06 11:30:51,785 INFO status has been updated to successful\n",
      "2025-06-06 11:30:54,273 INFO [2024-09-26T00:00:00] Watch our [Forum](https://forum.ecmwf.int/) for Announcements, news and other discussed topics.\n",
      "2025-06-06 11:30:54,749 INFO Request ID is 1a89b3d1-878b-4d98-9f73-91db2c77f436\n",
      "2025-06-06 11:30:55,074 INFO status has been updated to accepted\n",
      "2025-06-06 11:31:04,104 INFO status has been updated to successful\n",
      "2025-06-06 11:31:06,934 INFO [2024-09-26T00:00:00] Watch our [Forum](https://forum.ecmwf.int/) for Announcements, news and other discussed topics.\n",
      "2025-06-06 11:31:07,368 INFO Request ID is f0e42efa-b491-428d-b29e-bc4d5542c469\n",
      "2025-06-06 11:31:07,570 INFO status has been updated to accepted\n",
      "2025-06-06 11:31:12,946 INFO status has been updated to running\n",
      "2025-06-06 11:31:16,530 INFO status has been updated to successful\n",
      "2025-06-06 11:31:18,975 INFO [2024-09-26T00:00:00] Watch our [Forum](https://forum.ecmwf.int/) for Announcements, news and other discussed topics.\n",
      "2025-06-06 11:31:19,559 INFO Request ID is 1ebcc34a-e492-4b61-94d9-5ddde2cc66b9\n",
      "2025-06-06 11:31:19,785 INFO status has been updated to accepted\n",
      "2025-06-06 11:31:25,211 INFO status has been updated to running\n",
      "2025-06-06 11:31:28,812 INFO status has been updated to successful\n"
     ]
    }
   ],
   "source": [
    "## specify the forcing file names or set fullrun = True\n",
    "forcing_filenames_list = [\"AR-SLu_2010-2010_FLUXNET2015_Met.nc\"] ##, \"AU-ASM_2011-2017_OzFlux_Met.nc\"]\n",
    "\n",
    "## if you want to download all 170 sites, change fullrun = False to fullrun = True\n",
    "fullrun = False\n",
    "if fullrun:\n",
    "    forcing_filenames_list = [file.name for file in Path(forcing_path).iterdir()]\n",
    "    \n",
    "for forcing_name in forcing_filenames_list:\n",
    "    # read data and get time and coordinates\n",
    "    forcing = xr.open_dataset(forcing_path / forcing_name)\n",
    "    lon, lat, time =  get_forcing_info(forcing)\n",
    "    \n",
    "    # check site location on land sea mask\n",
    "    nearest_lon, nearest_lat = find_nearest_ERA5_land_point(lsm_dataset, lon, lat, 0.2)\n",
    "    \n",
    "    # get starting time\n",
    "    startyear = time.year.values[0]\n",
    "    endyear = startyear\n",
    "    startmonth = time.month.values[0]\n",
    "    startday = time.day.values[0]\n",
    "    starthour = time.hour.values[0]\n",
    "\n",
    "    # create area, note that era5 resolution is 0.1\n",
    "    # and we want only one grid cell\n",
    "    lat_max = nearest_lat + 0.001\n",
    "    lat_min = nearest_lat - 0.001\n",
    "    lon_max = nearest_lon + 0.001\n",
    "    lon_min = nearest_lon - 0.001\n",
    "\n",
    "    # create prefix for file name\n",
    "    station_name = forcing_name.split('_')[0]\n",
    "    timestamp = time.strftime('%Y%m%d_%H').values[0]\n",
    "    file_name = f\"{station_name}_{timestamp}\"\n",
    "\n",
    "    # download data\n",
    "    !era5cli hourly --variables soil_temperature_level_1 soil_temperature_level_2 soil_temperature_level_3 soil_temperature_level_4 \\\n",
    "    volumetric_soil_water_layer_1 volumetric_soil_water_layer_2 volumetric_soil_water_layer_3 volumetric_soil_water_layer_4 skin_temperature \\\n",
    "    --startyear {startyear} --endyear {endyear} --land \\\n",
    "    --area {lat_max} {lon_min} {lat_min} {lon_max} \\\n",
    "    --months {startmonth} --days {startday} --hours {starthour} --outputprefix {file_name} --merge"
   ]
  },
  {
   "cell_type": "code",
   "execution_count": 23,
   "metadata": {},
   "outputs": [],
   "source": [
    "!pip install era5cli>=2.0.1"
   ]
  },
  {
   "cell_type": "code",
   "execution_count": 20,
   "metadata": {},
   "outputs": [
    {
     "name": "stderr",
     "output_type": "stream",
     "text": [
      "2025-06-06 11:15:05,523 INFO [2024-09-26T00:00:00] Watch our [Forum](https://forum.ecmwf.int/) for Announcements, news and other discussed topics.\n",
      "2025-06-06 11:15:06,429 INFO Request ID is 6e27cf5c-7439-4bdd-b8b9-982a54a8d9e4\n",
      "2025-06-06 11:15:06,669 INFO status has been updated to accepted\n",
      "2025-06-06 11:15:29,364 INFO status has been updated to successful\n",
      "                                                                                           \r"
     ]
    },
    {
     "data": {
      "text/plain": [
       "'download.grib'"
      ]
     },
     "execution_count": 20,
     "metadata": {},
     "output_type": "execute_result"
    }
   ],
   "source": [
    "import cdsapi\n",
    "\n",
    "client = cdsapi.Client()\n",
    "\n",
    "dataset = 'reanalysis-era5-pressure-levels'\n",
    "request = {\n",
    "  'product_type': ['reanalysis'],\n",
    "  'variable': ['geopotential'],\n",
    "  'year': ['2024'],\n",
    "  'month': ['03'],\n",
    "  'day': ['01'],\n",
    "  'time': ['13:00'],\n",
    "  'pressure_level': ['1000'],\n",
    "  'data_format': 'grib',\n",
    "}\n",
    "target = 'download.grib'\n",
    "\n",
    "client.retrieve(dataset, request, target)"
   ]
  },
  {
   "cell_type": "code",
   "execution_count": null,
   "metadata": {},
   "outputs": [],
   "source": []
  }
 ],
 "metadata": {
  "kernelspec": {
   "display_name": "scope",
   "language": "python",
   "name": "python3"
  },
  "language_info": {
   "codemirror_mode": {
    "name": "ipython",
    "version": 3
   },
   "file_extension": ".py",
   "mimetype": "text/x-python",
   "name": "python",
   "nbconvert_exporter": "python",
   "pygments_lexer": "ipython3",
   "version": "undefined.undefined.undefined"
  }
 },
 "nbformat": 4,
 "nbformat_minor": 4
}
